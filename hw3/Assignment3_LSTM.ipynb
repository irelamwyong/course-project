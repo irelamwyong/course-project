{
 "cells": [
  {
   "cell_type": "code",
   "execution_count": 763,
   "id": "3df72a1d",
   "metadata": {},
   "outputs": [
    {
     "name": "stdout",
     "output_type": "stream",
     "text": [
      "<class 'xgboost.sklearn.XGBRegressor'>\n"
     ]
    }
   ],
   "source": [
    "import yfinance as yf\n",
    "import numpy as np\n",
    "import pandas as pd\n",
    "from sklearn.preprocessing import MinMaxScaler, StandardScaler\n",
    "from sklearn.model_selection import train_test_split\n",
    "from sklearn.metrics import mean_squared_error, mean_absolute_error\n",
    "from keras.models import Sequential\n",
    "from keras.layers import LSTM, Dense,RepeatVector, TimeDistributed\n",
    "from keras.callbacks import EarlyStopping\n",
    "import matplotlib.pyplot as plt\n",
    "from datetime import datetime,timedelta\n",
    "from xgboost import XGBRegressor\n",
    "print(XGBRegressor)"
   ]
  },
  {
   "cell_type": "markdown",
   "id": "12b13d09",
   "metadata": {},
   "source": [
    "## Raw Data Processing"
   ]
  },
  {
   "cell_type": "code",
   "execution_count": 764,
   "id": "aef1650d",
   "metadata": {},
   "outputs": [],
   "source": [
    "ticker = 'KO'\n",
    "n_days = 1 #Predict 1 day forward\n",
    "sequence_length = 60 #Will use past 60 days'prices to predict the next day\n",
    "test_size = 0.2 #20% of the data will be used for testing"
   ]
  },
  {
   "cell_type": "code",
   "execution_count": 765,
   "id": "c148df8f",
   "metadata": {},
   "outputs": [
    {
     "name": "stderr",
     "output_type": "stream",
     "text": [
      "[*********************100%***********************]  1 of 1 completed\n"
     ]
    },
    {
     "data": {
      "text/html": [
       "<div>\n",
       "<style scoped>\n",
       "    .dataframe tbody tr th:only-of-type {\n",
       "        vertical-align: middle;\n",
       "    }\n",
       "\n",
       "    .dataframe tbody tr th {\n",
       "        vertical-align: top;\n",
       "    }\n",
       "\n",
       "    .dataframe thead th {\n",
       "        text-align: right;\n",
       "    }\n",
       "</style>\n",
       "<table border=\"1\" class=\"dataframe\">\n",
       "  <thead>\n",
       "    <tr style=\"text-align: right;\">\n",
       "      <th>Price</th>\n",
       "      <th>Close</th>\n",
       "      <th>High</th>\n",
       "      <th>Low</th>\n",
       "      <th>Open</th>\n",
       "      <th>Volume</th>\n",
       "    </tr>\n",
       "    <tr>\n",
       "      <th>Date</th>\n",
       "      <th></th>\n",
       "      <th></th>\n",
       "      <th></th>\n",
       "      <th></th>\n",
       "      <th></th>\n",
       "    </tr>\n",
       "  </thead>\n",
       "  <tbody>\n",
       "    <tr>\n",
       "      <th>2015-01-02</th>\n",
       "      <td>30.437500</td>\n",
       "      <td>30.625298</td>\n",
       "      <td>30.191920</td>\n",
       "      <td>30.524175</td>\n",
       "      <td>9921100</td>\n",
       "    </tr>\n",
       "    <tr>\n",
       "      <th>2015-01-05</th>\n",
       "      <td>30.437500</td>\n",
       "      <td>31.037006</td>\n",
       "      <td>30.394164</td>\n",
       "      <td>30.834762</td>\n",
       "      <td>26292600</td>\n",
       "    </tr>\n",
       "    <tr>\n",
       "      <th>2015-01-06</th>\n",
       "      <td>30.668648</td>\n",
       "      <td>31.015349</td>\n",
       "      <td>30.509745</td>\n",
       "      <td>30.632534</td>\n",
       "      <td>16897500</td>\n",
       "    </tr>\n",
       "    <tr>\n",
       "      <th>2015-01-07</th>\n",
       "      <td>31.051462</td>\n",
       "      <td>31.138137</td>\n",
       "      <td>30.755321</td>\n",
       "      <td>30.914224</td>\n",
       "      <td>13412300</td>\n",
       "    </tr>\n",
       "    <tr>\n",
       "      <th>2015-01-08</th>\n",
       "      <td>31.427042</td>\n",
       "      <td>31.470381</td>\n",
       "      <td>31.130901</td>\n",
       "      <td>31.188686</td>\n",
       "      <td>21743600</td>\n",
       "    </tr>\n",
       "    <tr>\n",
       "      <th>...</th>\n",
       "      <td>...</td>\n",
       "      <td>...</td>\n",
       "      <td>...</td>\n",
       "      <td>...</td>\n",
       "      <td>...</td>\n",
       "    </tr>\n",
       "    <tr>\n",
       "      <th>2025-05-16</th>\n",
       "      <td>72.000000</td>\n",
       "      <td>72.260002</td>\n",
       "      <td>71.430000</td>\n",
       "      <td>71.860001</td>\n",
       "      <td>18441200</td>\n",
       "    </tr>\n",
       "    <tr>\n",
       "      <th>2025-05-19</th>\n",
       "      <td>71.930000</td>\n",
       "      <td>72.169998</td>\n",
       "      <td>71.639999</td>\n",
       "      <td>72.029999</td>\n",
       "      <td>13282800</td>\n",
       "    </tr>\n",
       "    <tr>\n",
       "      <th>2025-05-20</th>\n",
       "      <td>71.690002</td>\n",
       "      <td>72.129997</td>\n",
       "      <td>71.430000</td>\n",
       "      <td>71.800003</td>\n",
       "      <td>12137800</td>\n",
       "    </tr>\n",
       "    <tr>\n",
       "      <th>2025-05-21</th>\n",
       "      <td>71.849998</td>\n",
       "      <td>72.080002</td>\n",
       "      <td>71.580002</td>\n",
       "      <td>71.690002</td>\n",
       "      <td>12091100</td>\n",
       "    </tr>\n",
       "    <tr>\n",
       "      <th>2025-05-22</th>\n",
       "      <td>71.184998</td>\n",
       "      <td>71.985001</td>\n",
       "      <td>70.959999</td>\n",
       "      <td>71.839996</td>\n",
       "      <td>4883522</td>\n",
       "    </tr>\n",
       "  </tbody>\n",
       "</table>\n",
       "<p>2613 rows × 5 columns</p>\n",
       "</div>"
      ],
      "text/plain": [
       "Price           Close       High        Low       Open    Volume\n",
       "Date                                                            \n",
       "2015-01-02  30.437500  30.625298  30.191920  30.524175   9921100\n",
       "2015-01-05  30.437500  31.037006  30.394164  30.834762  26292600\n",
       "2015-01-06  30.668648  31.015349  30.509745  30.632534  16897500\n",
       "2015-01-07  31.051462  31.138137  30.755321  30.914224  13412300\n",
       "2015-01-08  31.427042  31.470381  31.130901  31.188686  21743600\n",
       "...               ...        ...        ...        ...       ...\n",
       "2025-05-16  72.000000  72.260002  71.430000  71.860001  18441200\n",
       "2025-05-19  71.930000  72.169998  71.639999  72.029999  13282800\n",
       "2025-05-20  71.690002  72.129997  71.430000  71.800003  12137800\n",
       "2025-05-21  71.849998  72.080002  71.580002  71.690002  12091100\n",
       "2025-05-22  71.184998  71.985001  70.959999  71.839996   4883522\n",
       "\n",
       "[2613 rows x 5 columns]"
      ]
     },
     "execution_count": 765,
     "metadata": {},
     "output_type": "execute_result"
    }
   ],
   "source": [
    "start_date = '2015-01-01'\n",
    "end_date = datetime.today().strftime('%Y-%m-%d')\n",
    "\n",
    "df = yf.download(ticker, start=start_date, end=end_date)\n",
    "df.columns = df.columns.droplevel(1)\n",
    "df.dropna(inplace=True)\n",
    "df"
   ]
  },
  {
   "cell_type": "code",
   "execution_count": 766,
   "id": "b69b5cf8",
   "metadata": {},
   "outputs": [
    {
     "data": {
      "image/png": "[encoded data removed]",
      "text/plain": [
       "<Figure size 1200x500 with 1 Axes>"
      ]
     },
     "metadata": {},
     "output_type": "display_data"
    }
   ],
   "source": [
    "# Visualize the raw data (closing price)\n",
    "plt.figure(figsize=(12, 5))\n",
    "plt.plot(df['Close'], label=f'{ticker} Close Price', color='steelblue')\n",
    "plt.title(f'{ticker} Stock Closing Price History')\n",
    "plt.xlabel('Date')\n",
    "plt.ylabel('Close Price')\n",
    "plt.grid(True)\n",
    "plt.legend()\n",
    "plt.show()\n"
   ]
  },
  {
   "cell_type": "markdown",
   "id": "e00d7ce0",
   "metadata": {},
   "source": [
    "## Feature Engineering"
   ]
  },
  {
   "cell_type": "code",
   "execution_count": 767,
   "id": "10e475df",
   "metadata": {},
   "outputs": [],
   "source": [
    "def create_features(df, lags=[1, 3, 5, 10, 20], sma_windows=[5, 10, 20, 60], vol_window=20):\n",
    "    \"\"\"\n",
    "    Create feature factors based on OHLCV data.\n",
    "\n",
    "    Args:\n",
    "        df (pd.DataFrame): DataFrame containing OHLCV data, indexed by datetime\n",
    "        lags (list): List of lags for calculating log returns\n",
    "        sma_windows (list): List of window sizes for calculating simple moving averages (SMA)\n",
    "        vol_window (int): Window size for calculating volatility\n",
    "\n",
    "    Returns:\n",
    "        pd.DataFrame: DataFrame containing generated features (rows with NaNs removed)\n",
    "    \"\"\"\n",
    "    print(\"Starting feature engineering...\")\n",
    "    df_feat = df.copy()\n",
    "    \n",
    "    # Calculate log return (clip to avoid division errors with 0 or negative prices)\n",
    "    df_feat['log_return'] = np.log(df_feat['Close'].clip(lower=1e-9) / df_feat['Close'].shift(1).clip(lower=1e-9))\n",
    "    \n",
    "    # Lagged log return features\n",
    "    for lag in lags:\n",
    "        df_feat[f'log_return_lag{lag}'] = df_feat['log_return'].shift(lag)\n",
    "        \n",
    "    # Simple Moving Average (SMA) features\n",
    "    for window in sma_windows:\n",
    "        df_feat[f'sma_{window}'] = df_feat['Close'].rolling(window=window, min_periods=1).mean()\n",
    "        # Ratio of price to its SMA (avoid division by zero)\n",
    "        df_feat[f'price_sma_{window}_ratio'] = df_feat['Close'] / df_feat[f'sma_{window}'].replace(0, 1e-9)\n",
    "        \n",
    "    # Ratio between short-term and long-term SMAs\n",
    "    if len(sma_windows) >= 2:\n",
    "        sma_short = f'sma_{sma_windows[0]}'\n",
    "        sma_long = f'sma_{sma_windows[-1]}'\n",
    "        df_feat[f'sma_ratio'] = df_feat[sma_short] / df_feat[sma_long].replace(0, 1e-9)\n",
    "\n",
    "    # Volatility feature (std dev of log return over rolling window)\n",
    "    df_feat[f'volatility_{vol_window}'] = df_feat['log_return'].rolling(window=vol_window, min_periods=1).std()\n",
    "    \n",
    "    # Volume-based feature: ratio to rolling mean volume (avoid divide-by-zero)\n",
    "    vol_mean = df_feat['Volume'].rolling(window=vol_window, min_periods=1).mean()\n",
    "    df_feat['volume_change_ratio'] = df_feat['Volume'] / vol_mean.replace(0, 1)\n",
    "\n",
    "    # Drop rows with NaN values (usually caused by lags or rolling windows)\n",
    "    df_feat = df_feat.dropna() \n",
    "    print(f\"Feature engineering complete. Generated {len(df_feat.columns) - len(df.columns)} new features. Remaining rows: {len(df_feat)}\")\n",
    "    return df_feat\n"
   ]
  },
  {
   "cell_type": "code",
   "execution_count": 768,
   "id": "72207dce",
   "metadata": {},
   "outputs": [
    {
     "name": "stdout",
     "output_type": "stream",
     "text": [
      "Starting feature engineering...\n",
      "Feature engineering complete. Generated 17 new features. Remaining rows: 2592\n"
     ]
    },
    {
     "data": {
      "text/html": [
       "<div>\n",
       "<style scoped>\n",
       "    .dataframe tbody tr th:only-of-type {\n",
       "        vertical-align: middle;\n",
       "    }\n",
       "\n",
       "    .dataframe tbody tr th {\n",
       "        vertical-align: top;\n",
       "    }\n",
       "\n",
       "    .dataframe thead th {\n",
       "        text-align: right;\n",
       "    }\n",
       "</style>\n",
       "<table border=\"1\" class=\"dataframe\">\n",
       "  <thead>\n",
       "    <tr style=\"text-align: right;\">\n",
       "      <th>Price</th>\n",
       "      <th>Close</th>\n",
       "      <th>High</th>\n",
       "      <th>Low</th>\n",
       "      <th>Open</th>\n",
       "      <th>Volume</th>\n",
       "      <th>log_return</th>\n",
       "      <th>log_return_lag1</th>\n",
       "      <th>log_return_lag3</th>\n",
       "      <th>log_return_lag5</th>\n",
       "      <th>log_return_lag10</th>\n",
       "      <th>...</th>\n",
       "      <th>price_sma_5_ratio</th>\n",
       "      <th>sma_10</th>\n",
       "      <th>price_sma_10_ratio</th>\n",
       "      <th>sma_20</th>\n",
       "      <th>price_sma_20_ratio</th>\n",
       "      <th>sma_60</th>\n",
       "      <th>price_sma_60_ratio</th>\n",
       "      <th>sma_ratio</th>\n",
       "      <th>volatility_20</th>\n",
       "      <th>volume_change_ratio</th>\n",
       "    </tr>\n",
       "    <tr>\n",
       "      <th>Date</th>\n",
       "      <th></th>\n",
       "      <th></th>\n",
       "      <th></th>\n",
       "      <th></th>\n",
       "      <th></th>\n",
       "      <th></th>\n",
       "      <th></th>\n",
       "      <th></th>\n",
       "      <th></th>\n",
       "      <th></th>\n",
       "      <th></th>\n",
       "      <th></th>\n",
       "      <th></th>\n",
       "      <th></th>\n",
       "      <th></th>\n",
       "      <th></th>\n",
       "      <th></th>\n",
       "      <th></th>\n",
       "      <th></th>\n",
       "      <th></th>\n",
       "      <th></th>\n",
       "    </tr>\n",
       "  </thead>\n",
       "  <tbody>\n",
       "    <tr>\n",
       "      <th>2015-02-03</th>\n",
       "      <td>30.069139</td>\n",
       "      <td>30.228042</td>\n",
       "      <td>29.881341</td>\n",
       "      <td>30.155814</td>\n",
       "      <td>13193100</td>\n",
       "      <td>0.000962</td>\n",
       "      <td>0.010150</td>\n",
       "      <td>0.004285</td>\n",
       "      <td>-0.014288</td>\n",
       "      <td>0.014704</td>\n",
       "      <td>...</td>\n",
       "      <td>0.998753</td>\n",
       "      <td>30.643356</td>\n",
       "      <td>0.981261</td>\n",
       "      <td>30.774816</td>\n",
       "      <td>0.977070</td>\n",
       "      <td>30.744151</td>\n",
       "      <td>0.978044</td>\n",
       "      <td>0.979266</td>\n",
       "      <td>0.010351</td>\n",
       "      <td>0.924958</td>\n",
       "    </tr>\n",
       "    <tr>\n",
       "      <th>2015-02-04</th>\n",
       "      <td>30.105253</td>\n",
       "      <td>30.401394</td>\n",
       "      <td>30.061915</td>\n",
       "      <td>30.170260</td>\n",
       "      <td>16400000</td>\n",
       "      <td>0.001200</td>\n",
       "      <td>0.000962</td>\n",
       "      <td>-0.022338</td>\n",
       "      <td>-0.011150</td>\n",
       "      <td>0.004623</td>\n",
       "      <td>...</td>\n",
       "      <td>1.001105</td>\n",
       "      <td>30.522012</td>\n",
       "      <td>0.986346</td>\n",
       "      <td>30.746646</td>\n",
       "      <td>0.979139</td>\n",
       "      <td>30.716373</td>\n",
       "      <td>0.980104</td>\n",
       "      <td>0.979023</td>\n",
       "      <td>0.010183</td>\n",
       "      <td>1.151800</td>\n",
       "    </tr>\n",
       "    <tr>\n",
       "      <th>2015-02-05</th>\n",
       "      <td>30.184692</td>\n",
       "      <td>30.206360</td>\n",
       "      <td>29.982448</td>\n",
       "      <td>30.191914</td>\n",
       "      <td>11078500</td>\n",
       "      <td>0.002635</td>\n",
       "      <td>0.001200</td>\n",
       "      <td>0.010150</td>\n",
       "      <td>0.004285</td>\n",
       "      <td>0.009640</td>\n",
       "      <td>...</td>\n",
       "      <td>1.005244</td>\n",
       "      <td>30.378275</td>\n",
       "      <td>0.993628</td>\n",
       "      <td>30.703308</td>\n",
       "      <td>0.983109</td>\n",
       "      <td>30.694219</td>\n",
       "      <td>0.983400</td>\n",
       "      <td>0.978270</td>\n",
       "      <td>0.009734</td>\n",
       "      <td>0.784491</td>\n",
       "    </tr>\n",
       "    <tr>\n",
       "      <th>2015-02-06</th>\n",
       "      <td>29.939125</td>\n",
       "      <td>30.163035</td>\n",
       "      <td>29.845226</td>\n",
       "      <td>30.069138</td>\n",
       "      <td>12366400</td>\n",
       "      <td>-0.008169</td>\n",
       "      <td>0.002635</td>\n",
       "      <td>0.000962</td>\n",
       "      <td>-0.022338</td>\n",
       "      <td>-0.010793</td>\n",
       "      <td>...</td>\n",
       "      <td>0.995724</td>\n",
       "      <td>30.243929</td>\n",
       "      <td>0.989922</td>\n",
       "      <td>30.628912</td>\n",
       "      <td>0.977479</td>\n",
       "      <td>30.664016</td>\n",
       "      <td>0.976360</td>\n",
       "      <td>0.980553</td>\n",
       "      <td>0.009305</td>\n",
       "      <td>0.905762</td>\n",
       "    </tr>\n",
       "    <tr>\n",
       "      <th>2015-02-09</th>\n",
       "      <td>29.780214</td>\n",
       "      <td>29.939120</td>\n",
       "      <td>29.642979</td>\n",
       "      <td>29.888560</td>\n",
       "      <td>13371100</td>\n",
       "      <td>-0.005322</td>\n",
       "      <td>-0.008169</td>\n",
       "      <td>0.001200</td>\n",
       "      <td>0.010150</td>\n",
       "      <td>-0.007183</td>\n",
       "      <td>...</td>\n",
       "      <td>0.992155</td>\n",
       "      <td>30.116082</td>\n",
       "      <td>0.988848</td>\n",
       "      <td>30.563906</td>\n",
       "      <td>0.974359</td>\n",
       "      <td>30.630023</td>\n",
       "      <td>0.972256</td>\n",
       "      <td>0.979943</td>\n",
       "      <td>0.009109</td>\n",
       "      <td>0.977069</td>\n",
       "    </tr>\n",
       "  </tbody>\n",
       "</table>\n",
       "<p>5 rows × 22 columns</p>\n",
       "</div>"
      ],
      "text/plain": [
       "Price           Close       High        Low       Open    Volume  log_return  \\\n",
       "Date                                                                           \n",
       "2015-02-03  30.069139  30.228042  29.881341  30.155814  13193100    0.000962   \n",
       "2015-02-04  30.105253  30.401394  30.061915  30.170260  16400000    0.001200   \n",
       "2015-02-05  30.184692  30.206360  29.982448  30.191914  11078500    0.002635   \n",
       "2015-02-06  29.939125  30.163035  29.845226  30.069138  12366400   -0.008169   \n",
       "2015-02-09  29.780214  29.939120  29.642979  29.888560  13371100   -0.005322   \n",
       "\n",
       "Price       log_return_lag1  log_return_lag3  log_return_lag5  \\\n",
       "Date                                                            \n",
       "2015-02-03         0.010150         0.004285        -0.014288   \n",
       "2015-02-04         0.000962        -0.022338        -0.011150   \n",
       "2015-02-05         0.001200         0.010150         0.004285   \n",
       "2015-02-06         0.002635         0.000962        -0.022338   \n",
       "2015-02-09        -0.008169         0.001200         0.010150   \n",
       "\n",
       "Price       log_return_lag10  ...  price_sma_5_ratio     sma_10  \\\n",
       "Date                          ...                                 \n",
       "2015-02-03          0.014704  ...           0.998753  30.643356   \n",
       "2015-02-04          0.004623  ...           1.001105  30.522012   \n",
       "2015-02-05          0.009640  ...           1.005244  30.378275   \n",
       "2015-02-06         -0.010793  ...           0.995724  30.243929   \n",
       "2015-02-09         -0.007183  ...           0.992155  30.116082   \n",
       "\n",
       "Price       price_sma_10_ratio     sma_20  price_sma_20_ratio     sma_60  \\\n",
       "Date                                                                       \n",
       "2015-02-03            0.981261  30.774816            0.977070  30.744151   \n",
       "2015-02-04            0.986346  30.746646            0.979139  30.716373   \n",
       "2015-02-05            0.993628  30.703308            0.983109  30.694219   \n",
       "2015-02-06            0.989922  30.628912            0.977479  30.664016   \n",
       "2015-02-09            0.988848  30.563906            0.974359  30.630023   \n",
       "\n",
       "Price       price_sma_60_ratio  sma_ratio  volatility_20  volume_change_ratio  \n",
       "Date                                                                           \n",
       "2015-02-03            0.978044   0.979266       0.010351             0.924958  \n",
       "2015-02-04            0.980104   0.979023       0.010183             1.151800  \n",
       "2015-02-05            0.983400   0.978270       0.009734             0.784491  \n",
       "2015-02-06            0.976360   0.980553       0.009305             0.905762  \n",
       "2015-02-09            0.972256   0.979943       0.009109             0.977069  \n",
       "\n",
       "[5 rows x 22 columns]"
      ]
     },
     "execution_count": 768,
     "metadata": {},
     "output_type": "execute_result"
    }
   ],
   "source": [
    "df = create_features(df, lags=[1, 3, 5, 10, 20], sma_windows=[5, 10, 20, 60], vol_window=20)\n",
    "df.head()"
   ]
  },
  {
   "cell_type": "code",
   "execution_count": 769,
   "id": "c0fa3b1e",
   "metadata": {},
   "outputs": [
    {
     "data": {
      "image/png": "[encoded data removed]",
      "text/plain": [
       "<Figure size 800x600 with 1 Axes>"
      ]
     },
     "metadata": {},
     "output_type": "display_data"
    },
    {
     "name": "stdout",
     "output_type": "stream",
     "text": [
      "Selected features: ['Low', 'High', 'sma_5', 'sma_10', 'log_return', 'sma_60', 'sma_20', 'price_sma_60_ratio', 'price_sma_5_ratio', 'Open']\n"
     ]
    }
   ],
   "source": [
    "def feature_selection_with_xgb(df_feat, target_col='close', top_k=10):\n",
    "    # define target and features\n",
    "    X = df_feat.drop(columns=[target_col])\n",
    "    y = df_feat[target_col]\n",
    "    \n",
    "    X_train, X_val, y_train, y_val = train_test_split(\n",
    "        X, y, test_size=0.2, shuffle=False)\n",
    "    \n",
    "    # Use XGBoost for feature importance\n",
    "    model = XGBRegressor(n_estimators=100, random_state=42)\n",
    "    model.fit(X_train, y_train, eval_set=[(X_val, y_val)],verbose=False)\n",
    "    \n",
    "    # Get feature importance\n",
    "    importance = model.feature_importances_\n",
    "    features = X.columns\n",
    "    \n",
    "    # Create a DataFrame for feature importance\n",
    "    imp_df = pd.DataFrame({'feature': features, 'importance': importance})\n",
    "    imp_df = imp_df.sort_values(by='importance', ascending=False).head(top_k)\n",
    "    \n",
    "    plt.figure(figsize=(8, 6))\n",
    "    plt.barh(imp_df['feature'], imp_df['importance'])\n",
    "    plt.xlabel('Feature Importance')\n",
    "    plt.title(f'Top {top_k} Important Features by XGBoost')\n",
    "    plt.gca().invert_yaxis()\n",
    "    plt.show()\n",
    "    \n",
    "    return imp_df['feature'].tolist()\n",
    "\n",
    "\n",
    "top_features = feature_selection_with_xgb(df, target_col='Close', top_k=10)\n",
    "print(\"Selected features:\", top_features)\n"
   ]
  },
  {
   "cell_type": "code",
   "execution_count": 770,
   "id": "799775c1",
   "metadata": {},
   "outputs": [
    {
     "data": {
      "text/html": [
       "<div>\n",
       "<style scoped>\n",
       "    .dataframe tbody tr th:only-of-type {\n",
       "        vertical-align: middle;\n",
       "    }\n",
       "\n",
       "    .dataframe tbody tr th {\n",
       "        vertical-align: top;\n",
       "    }\n",
       "\n",
       "    .dataframe thead th {\n",
       "        text-align: right;\n",
       "    }\n",
       "</style>\n",
       "<table border=\"1\" class=\"dataframe\">\n",
       "  <thead>\n",
       "    <tr style=\"text-align: right;\">\n",
       "      <th>Price</th>\n",
       "      <th>Close</th>\n",
       "      <th>Low</th>\n",
       "      <th>High</th>\n",
       "      <th>sma_5</th>\n",
       "      <th>sma_10</th>\n",
       "      <th>log_return</th>\n",
       "      <th>sma_60</th>\n",
       "      <th>sma_20</th>\n",
       "      <th>price_sma_60_ratio</th>\n",
       "      <th>price_sma_5_ratio</th>\n",
       "      <th>Open</th>\n",
       "    </tr>\n",
       "    <tr>\n",
       "      <th>Date</th>\n",
       "      <th></th>\n",
       "      <th></th>\n",
       "      <th></th>\n",
       "      <th></th>\n",
       "      <th></th>\n",
       "      <th></th>\n",
       "      <th></th>\n",
       "      <th></th>\n",
       "      <th></th>\n",
       "      <th></th>\n",
       "      <th></th>\n",
       "    </tr>\n",
       "  </thead>\n",
       "  <tbody>\n",
       "    <tr>\n",
       "      <th>2015-02-03</th>\n",
       "      <td>30.069139</td>\n",
       "      <td>29.881341</td>\n",
       "      <td>30.228042</td>\n",
       "      <td>30.106691</td>\n",
       "      <td>30.643356</td>\n",
       "      <td>0.000962</td>\n",
       "      <td>30.744151</td>\n",
       "      <td>30.774816</td>\n",
       "      <td>0.978044</td>\n",
       "      <td>0.998753</td>\n",
       "      <td>30.155814</td>\n",
       "    </tr>\n",
       "    <tr>\n",
       "      <th>2015-02-04</th>\n",
       "      <td>30.105253</td>\n",
       "      <td>30.061915</td>\n",
       "      <td>30.401394</td>\n",
       "      <td>30.072023</td>\n",
       "      <td>30.522012</td>\n",
       "      <td>0.001200</td>\n",
       "      <td>30.716373</td>\n",
       "      <td>30.746646</td>\n",
       "      <td>0.980104</td>\n",
       "      <td>1.001105</td>\n",
       "      <td>30.170260</td>\n",
       "    </tr>\n",
       "    <tr>\n",
       "      <th>2015-02-05</th>\n",
       "      <td>30.184692</td>\n",
       "      <td>29.982448</td>\n",
       "      <td>30.206360</td>\n",
       "      <td>30.027240</td>\n",
       "      <td>30.378275</td>\n",
       "      <td>0.002635</td>\n",
       "      <td>30.694219</td>\n",
       "      <td>30.703308</td>\n",
       "      <td>0.983400</td>\n",
       "      <td>1.005244</td>\n",
       "      <td>30.191914</td>\n",
       "    </tr>\n",
       "    <tr>\n",
       "      <th>2015-02-06</th>\n",
       "      <td>29.939125</td>\n",
       "      <td>29.845226</td>\n",
       "      <td>30.163035</td>\n",
       "      <td>30.067690</td>\n",
       "      <td>30.243929</td>\n",
       "      <td>-0.008169</td>\n",
       "      <td>30.664016</td>\n",
       "      <td>30.628912</td>\n",
       "      <td>0.976360</td>\n",
       "      <td>0.995724</td>\n",
       "      <td>30.069138</td>\n",
       "    </tr>\n",
       "    <tr>\n",
       "      <th>2015-02-09</th>\n",
       "      <td>29.780214</td>\n",
       "      <td>29.642979</td>\n",
       "      <td>29.939120</td>\n",
       "      <td>30.015685</td>\n",
       "      <td>30.116082</td>\n",
       "      <td>-0.005322</td>\n",
       "      <td>30.630023</td>\n",
       "      <td>30.563906</td>\n",
       "      <td>0.972256</td>\n",
       "      <td>0.992155</td>\n",
       "      <td>29.888560</td>\n",
       "    </tr>\n",
       "  </tbody>\n",
       "</table>\n",
       "</div>"
      ],
      "text/plain": [
       "Price           Close        Low       High      sma_5     sma_10  log_return  \\\n",
       "Date                                                                            \n",
       "2015-02-03  30.069139  29.881341  30.228042  30.106691  30.643356    0.000962   \n",
       "2015-02-04  30.105253  30.061915  30.401394  30.072023  30.522012    0.001200   \n",
       "2015-02-05  30.184692  29.982448  30.206360  30.027240  30.378275    0.002635   \n",
       "2015-02-06  29.939125  29.845226  30.163035  30.067690  30.243929   -0.008169   \n",
       "2015-02-09  29.780214  29.642979  29.939120  30.015685  30.116082   -0.005322   \n",
       "\n",
       "Price          sma_60     sma_20  price_sma_60_ratio  price_sma_5_ratio  \\\n",
       "Date                                                                      \n",
       "2015-02-03  30.744151  30.774816            0.978044           0.998753   \n",
       "2015-02-04  30.716373  30.746646            0.980104           1.001105   \n",
       "2015-02-05  30.694219  30.703308            0.983400           1.005244   \n",
       "2015-02-06  30.664016  30.628912            0.976360           0.995724   \n",
       "2015-02-09  30.630023  30.563906            0.972256           0.992155   \n",
       "\n",
       "Price            Open  \n",
       "Date                   \n",
       "2015-02-03  30.155814  \n",
       "2015-02-04  30.170260  \n",
       "2015-02-05  30.191914  \n",
       "2015-02-06  30.069138  \n",
       "2015-02-09  29.888560  "
      ]
     },
     "execution_count": 770,
     "metadata": {},
     "output_type": "execute_result"
    }
   ],
   "source": [
    "df = df[['Close'] + top_features]\n",
    "df = df.dropna()\n",
    "df.head()"
   ]
  },
  {
   "cell_type": "markdown",
   "id": "4da02ebf",
   "metadata": {},
   "source": [
    "## Preprocessing Dataset"
   ]
  },
  {
   "cell_type": "code",
   "execution_count": 771,
   "id": "e3e8f58c",
   "metadata": {},
   "outputs": [],
   "source": [
    "# Choosing between Standardization or normalization\n",
    "# sc=StandardScaler()\n",
    "scaler = MinMaxScaler()\n",
    "data_scaled = scaler.fit_transform(df)\n",
    "scaled_df = pd.DataFrame(data_scaled, columns=df.columns, index=df.index)\n"
   ]
  },
  {
   "cell_type": "code",
   "execution_count": 772,
   "id": "e17d5d48",
   "metadata": {},
   "outputs": [
    {
     "name": "stdout",
     "output_type": "stream",
     "text": [
      "X shape: (2531, 60, 11)\n",
      "y shape: (2531, 1)\n",
      "y_dates shape: (2531, 1)\n"
     ]
    }
   ],
   "source": [
    "# Building the sample for the LSTM\n",
    "X, y, dates = [], [], []\n",
    "for i in range(len(scaled_df) - sequence_length - n_days):\n",
    "    X.append(scaled_df.iloc[i:i+sequence_length].values)\n",
    "    y.append(scaled_df.iloc[i+sequence_length:i+sequence_length+n_days]['Close'].values)\n",
    "    dates.append(scaled_df.index[i+sequence_length:i+sequence_length+n_days])\n",
    "\n",
    "X = np.array(X)\n",
    "y = np.array(y).reshape(-1, n_days)\n",
    "dates = np.array(dates)\n",
    "\n",
    "\n",
    "print('X shape:', X.shape)\n",
    "print('y shape:', y.shape)\n",
    "print('y_dates shape:', dates.shape)"
   ]
  },
  {
   "cell_type": "code",
   "execution_count": 773,
   "id": "d434481a",
   "metadata": {},
   "outputs": [],
   "source": [
    "X_train, X_test, y_train, y_test, dates_train, dates_test = train_test_split(X, y, dates, test_size=test_size, shuffle=False)"
   ]
  },
  {
   "cell_type": "markdown",
   "id": "7a3b0088",
   "metadata": {},
   "source": [
    "## Model Building"
   ]
  },
  {
   "cell_type": "code",
   "execution_count": 774,
   "id": "156faa19",
   "metadata": {},
   "outputs": [
    {
     "name": "stderr",
     "output_type": "stream",
     "text": [
      "d:\\Software\\anaconda\\envs\\derivativeGP\\Lib\\site-packages\\keras\\src\\layers\\rnn\\rnn.py:204: UserWarning: Do not pass an `input_shape`/`input_dim` argument to a layer. When using Sequential models, prefer using an `Input(shape)` object as the first layer in the model instead.\n",
      "  super().__init__(**kwargs)\n"
     ]
    }
   ],
   "source": [
    "# Building the LSTM model\n",
    "model = Sequential()\n",
    "model.add(LSTM(units=64, activation='tanh', input_shape=(sequence_length, X.shape[2]), return_sequences=True))\n",
    "model.add(LSTM(units=32, activation='tanh', return_sequences=False))\n",
    "model.add(RepeatVector(n_days))\n",
    "model.add(LSTM(32, activation='tanh', return_sequences=True))\n",
    "model.add(TimeDistributed(Dense(1)))\n",
    "model.compile(optimizer='adam', loss='mse')"
   ]
  },
  {
   "cell_type": "code",
   "execution_count": 775,
   "id": "60192128",
   "metadata": {},
   "outputs": [],
   "source": [
    "early_stop = EarlyStopping(\n",
    "    monitor='val_loss',      \n",
    "    patience= 25, \n",
    "    min_delta=0.0001, \n",
    "    verbose=1,             \n",
    "    restore_best_weights=True \n",
    ")"
   ]
  },
  {
   "cell_type": "markdown",
   "id": "8ba34874",
   "metadata": {},
   "source": [
    "## Model Training"
   ]
  },
  {
   "cell_type": "code",
   "execution_count": 776,
   "id": "8e68a549",
   "metadata": {},
   "outputs": [
    {
     "name": "stdout",
     "output_type": "stream",
     "text": [
      "Epoch 1/100\n",
      "\u001b[1m51/51\u001b[0m \u001b[32m━━━━━━━━━━━━━━━━━━━━\u001b[0m\u001b[37m\u001b[0m \u001b[1m7s\u001b[0m 36ms/step - loss: 0.0202 - val_loss: 0.0168\n",
      "Epoch 2/100\n",
      "\u001b[1m51/51\u001b[0m \u001b[32m━━━━━━━━━━━━━━━━━━━━\u001b[0m\u001b[37m\u001b[0m \u001b[1m1s\u001b[0m 26ms/step - loss: 7.7818e-04 - val_loss: 0.0093\n",
      "Epoch 3/100\n",
      "\u001b[1m51/51\u001b[0m \u001b[32m━━━━━━━━━━━━━━━━━━━━\u001b[0m\u001b[37m\u001b[0m \u001b[1m1s\u001b[0m 26ms/step - loss: 6.9883e-04 - val_loss: 0.0073\n",
      "Epoch 4/100\n",
      "\u001b[1m51/51\u001b[0m \u001b[32m━━━━━━━━━━━━━━━━━━━━\u001b[0m\u001b[37m\u001b[0m \u001b[1m1s\u001b[0m 27ms/step - loss: 5.5370e-04 - val_loss: 0.0035\n",
      "Epoch 5/100\n",
      "\u001b[1m51/51\u001b[0m \u001b[32m━━━━━━━━━━━━━━━━━━━━\u001b[0m\u001b[37m\u001b[0m \u001b[1m2s\u001b[0m 35ms/step - loss: 5.7974e-04 - val_loss: 0.0025\n",
      "Epoch 6/100\n",
      "\u001b[1m51/51\u001b[0m \u001b[32m━━━━━━━━━━━━━━━━━━━━\u001b[0m\u001b[37m\u001b[0m \u001b[1m2s\u001b[0m 34ms/step - loss: 3.5934e-04 - val_loss: 0.0026\n",
      "Epoch 7/100\n",
      "\u001b[1m51/51\u001b[0m \u001b[32m━━━━━━━━━━━━━━━━━━━━\u001b[0m\u001b[37m\u001b[0m \u001b[1m2s\u001b[0m 30ms/step - loss: 3.3209e-04 - val_loss: 0.0020\n",
      "Epoch 8/100\n",
      "\u001b[1m51/51\u001b[0m \u001b[32m━━━━━━━━━━━━━━━━━━━━\u001b[0m\u001b[37m\u001b[0m \u001b[1m2s\u001b[0m 35ms/step - loss: 3.1383e-04 - val_loss: 7.7903e-04\n",
      "Epoch 9/100\n",
      "\u001b[1m51/51\u001b[0m \u001b[32m━━━━━━━━━━━━━━━━━━━━\u001b[0m\u001b[37m\u001b[0m \u001b[1m2s\u001b[0m 37ms/step - loss: 3.1050e-04 - val_loss: 0.0023\n",
      "Epoch 10/100\n",
      "\u001b[1m51/51\u001b[0m \u001b[32m━━━━━━━━━━━━━━━━━━━━\u001b[0m\u001b[37m\u001b[0m \u001b[1m2s\u001b[0m 36ms/step - loss: 2.1727e-04 - val_loss: 0.0022\n",
      "Epoch 11/100\n",
      "\u001b[1m51/51\u001b[0m \u001b[32m━━━━━━━━━━━━━━━━━━━━\u001b[0m\u001b[37m\u001b[0m \u001b[1m2s\u001b[0m 37ms/step - loss: 2.4355e-04 - val_loss: 9.4477e-04\n",
      "Epoch 12/100\n",
      "\u001b[1m51/51\u001b[0m \u001b[32m━━━━━━━━━━━━━━━━━━━━\u001b[0m\u001b[37m\u001b[0m \u001b[1m2s\u001b[0m 37ms/step - loss: 2.0681e-04 - val_loss: 7.6495e-04\n",
      "Epoch 13/100\n",
      "\u001b[1m51/51\u001b[0m \u001b[32m━━━━━━━━━━━━━━━━━━━━\u001b[0m\u001b[37m\u001b[0m \u001b[1m2s\u001b[0m 37ms/step - loss: 2.3565e-04 - val_loss: 9.7104e-04\n",
      "Epoch 14/100\n",
      "\u001b[1m51/51\u001b[0m \u001b[32m━━━━━━━━━━━━━━━━━━━━\u001b[0m\u001b[37m\u001b[0m \u001b[1m2s\u001b[0m 38ms/step - loss: 1.8430e-04 - val_loss: 0.0010\n",
      "Epoch 15/100\n",
      "\u001b[1m51/51\u001b[0m \u001b[32m━━━━━━━━━━━━━━━━━━━━\u001b[0m\u001b[37m\u001b[0m \u001b[1m2s\u001b[0m 38ms/step - loss: 2.0671e-04 - val_loss: 0.0014\n",
      "Epoch 16/100\n",
      "\u001b[1m51/51\u001b[0m \u001b[32m━━━━━━━━━━━━━━━━━━━━\u001b[0m\u001b[37m\u001b[0m \u001b[1m2s\u001b[0m 38ms/step - loss: 2.1657e-04 - val_loss: 4.1158e-04\n",
      "Epoch 17/100\n",
      "\u001b[1m51/51\u001b[0m \u001b[32m━━━━━━━━━━━━━━━━━━━━\u001b[0m\u001b[37m\u001b[0m \u001b[1m2s\u001b[0m 38ms/step - loss: 1.8152e-04 - val_loss: 0.0014\n",
      "Epoch 18/100\n",
      "\u001b[1m51/51\u001b[0m \u001b[32m━━━━━━━━━━━━━━━━━━━━\u001b[0m\u001b[37m\u001b[0m \u001b[1m2s\u001b[0m 37ms/step - loss: 2.0904e-04 - val_loss: 6.1405e-04\n",
      "Epoch 19/100\n",
      "\u001b[1m51/51\u001b[0m \u001b[32m━━━━━━━━━━━━━━━━━━━━\u001b[0m\u001b[37m\u001b[0m \u001b[1m2s\u001b[0m 29ms/step - loss: 2.5082e-04 - val_loss: 8.5151e-04\n",
      "Epoch 20/100\n",
      "\u001b[1m51/51\u001b[0m \u001b[32m━━━━━━━━━━━━━━━━━━━━\u001b[0m\u001b[37m\u001b[0m \u001b[1m1s\u001b[0m 26ms/step - loss: 1.6286e-04 - val_loss: 0.0020\n",
      "Epoch 21/100\n",
      "\u001b[1m51/51\u001b[0m \u001b[32m━━━━━━━━━━━━━━━━━━━━\u001b[0m\u001b[37m\u001b[0m \u001b[1m1s\u001b[0m 27ms/step - loss: 1.9126e-04 - val_loss: 0.0015\n",
      "Epoch 22/100\n",
      "\u001b[1m51/51\u001b[0m \u001b[32m━━━━━━━━━━━━━━━━━━━━\u001b[0m\u001b[37m\u001b[0m \u001b[1m1s\u001b[0m 28ms/step - loss: 1.5403e-04 - val_loss: 9.4461e-04\n",
      "Epoch 23/100\n",
      "\u001b[1m51/51\u001b[0m \u001b[32m━━━━━━━━━━━━━━━━━━━━\u001b[0m\u001b[37m\u001b[0m \u001b[1m1s\u001b[0m 26ms/step - loss: 1.6933e-04 - val_loss: 7.4608e-04\n",
      "Epoch 24/100\n",
      "\u001b[1m51/51\u001b[0m \u001b[32m━━━━━━━━━━━━━━━━━━━━\u001b[0m\u001b[37m\u001b[0m \u001b[1m1s\u001b[0m 26ms/step - loss: 1.5137e-04 - val_loss: 4.3073e-04\n",
      "Epoch 25/100\n",
      "\u001b[1m51/51\u001b[0m \u001b[32m━━━━━━━━━━━━━━━━━━━━\u001b[0m\u001b[37m\u001b[0m \u001b[1m2s\u001b[0m 33ms/step - loss: 1.7331e-04 - val_loss: 4.2254e-04\n",
      "Epoch 26/100\n",
      "\u001b[1m51/51\u001b[0m \u001b[32m━━━━━━━━━━━━━━━━━━━━\u001b[0m\u001b[37m\u001b[0m \u001b[1m2s\u001b[0m 38ms/step - loss: 1.3781e-04 - val_loss: 0.0011\n",
      "Epoch 27/100\n",
      "\u001b[1m51/51\u001b[0m \u001b[32m━━━━━━━━━━━━━━━━━━━━\u001b[0m\u001b[37m\u001b[0m \u001b[1m2s\u001b[0m 38ms/step - loss: 1.4919e-04 - val_loss: 3.9941e-04\n",
      "Epoch 28/100\n",
      "\u001b[1m51/51\u001b[0m \u001b[32m━━━━━━━━━━━━━━━━━━━━\u001b[0m\u001b[37m\u001b[0m \u001b[1m2s\u001b[0m 38ms/step - loss: 1.1093e-04 - val_loss: 7.1498e-04\n",
      "Epoch 29/100\n",
      "\u001b[1m51/51\u001b[0m \u001b[32m━━━━━━━━━━━━━━━━━━━━\u001b[0m\u001b[37m\u001b[0m \u001b[1m2s\u001b[0m 39ms/step - loss: 1.4417e-04 - val_loss: 6.4400e-04\n",
      "Epoch 30/100\n",
      "\u001b[1m51/51\u001b[0m \u001b[32m━━━━━━━━━━━━━━━━━━━━\u001b[0m\u001b[37m\u001b[0m \u001b[1m2s\u001b[0m 30ms/step - loss: 1.2720e-04 - val_loss: 0.0014\n",
      "Epoch 31/100\n",
      "\u001b[1m51/51\u001b[0m \u001b[32m━━━━━━━━━━━━━━━━━━━━\u001b[0m\u001b[37m\u001b[0m \u001b[1m2s\u001b[0m 30ms/step - loss: 1.4282e-04 - val_loss: 7.8672e-04\n",
      "Epoch 32/100\n",
      "\u001b[1m51/51\u001b[0m \u001b[32m━━━━━━━━━━━━━━━━━━━━\u001b[0m\u001b[37m\u001b[0m \u001b[1m2s\u001b[0m 30ms/step - loss: 1.6604e-04 - val_loss: 3.6854e-04\n",
      "Epoch 33/100\n",
      "\u001b[1m51/51\u001b[0m \u001b[32m━━━━━━━━━━━━━━━━━━━━\u001b[0m\u001b[37m\u001b[0m \u001b[1m1s\u001b[0m 27ms/step - loss: 1.4665e-04 - val_loss: 8.2297e-04\n",
      "Epoch 34/100\n",
      "\u001b[1m51/51\u001b[0m \u001b[32m━━━━━━━━━━━━━━━━━━━━\u001b[0m\u001b[37m\u001b[0m \u001b[1m1s\u001b[0m 25ms/step - loss: 1.6320e-04 - val_loss: 3.1264e-04\n",
      "Epoch 35/100\n",
      "\u001b[1m51/51\u001b[0m \u001b[32m━━━━━━━━━━━━━━━━━━━━\u001b[0m\u001b[37m\u001b[0m \u001b[1m1s\u001b[0m 25ms/step - loss: 1.8939e-04 - val_loss: 0.0012\n",
      "Epoch 36/100\n",
      "\u001b[1m51/51\u001b[0m \u001b[32m━━━━━━━━━━━━━━━━━━━━\u001b[0m\u001b[37m\u001b[0m \u001b[1m1s\u001b[0m 29ms/step - loss: 1.2717e-04 - val_loss: 0.0011\n",
      "Epoch 37/100\n",
      "\u001b[1m51/51\u001b[0m \u001b[32m━━━━━━━━━━━━━━━━━━━━\u001b[0m\u001b[37m\u001b[0m \u001b[1m2s\u001b[0m 37ms/step - loss: 1.2530e-04 - val_loss: 3.0138e-04\n",
      "Epoch 38/100\n",
      "\u001b[1m51/51\u001b[0m \u001b[32m━━━━━━━━━━━━━━━━━━━━\u001b[0m\u001b[37m\u001b[0m \u001b[1m2s\u001b[0m 37ms/step - loss: 1.2428e-04 - val_loss: 7.6510e-04\n",
      "Epoch 39/100\n",
      "\u001b[1m51/51\u001b[0m \u001b[32m━━━━━━━━━━━━━━━━━━━━\u001b[0m\u001b[37m\u001b[0m \u001b[1m2s\u001b[0m 37ms/step - loss: 1.2478e-04 - val_loss: 9.8863e-04\n",
      "Epoch 40/100\n",
      "\u001b[1m51/51\u001b[0m \u001b[32m━━━━━━━━━━━━━━━━━━━━\u001b[0m\u001b[37m\u001b[0m \u001b[1m2s\u001b[0m 37ms/step - loss: 1.3834e-04 - val_loss: 3.9073e-04\n",
      "Epoch 41/100\n",
      "\u001b[1m51/51\u001b[0m \u001b[32m━━━━━━━━━━━━━━━━━━━━\u001b[0m\u001b[37m\u001b[0m \u001b[1m2s\u001b[0m 37ms/step - loss: 1.2336e-04 - val_loss: 4.6642e-04\n",
      "Epoch 42/100\n",
      "\u001b[1m51/51\u001b[0m \u001b[32m━━━━━━━━━━━━━━━━━━━━\u001b[0m\u001b[37m\u001b[0m \u001b[1m2s\u001b[0m 38ms/step - loss: 1.3453e-04 - val_loss: 3.7891e-04\n",
      "Epoch 43/100\n",
      "\u001b[1m51/51\u001b[0m \u001b[32m━━━━━━━━━━━━━━━━━━━━\u001b[0m\u001b[37m\u001b[0m \u001b[1m2s\u001b[0m 37ms/step - loss: 1.2021e-04 - val_loss: 2.0745e-04\n",
      "Epoch 44/100\n",
      "\u001b[1m51/51\u001b[0m \u001b[32m━━━━━━━━━━━━━━━━━━━━\u001b[0m\u001b[37m\u001b[0m \u001b[1m2s\u001b[0m 37ms/step - loss: 1.1624e-04 - val_loss: 8.5544e-04\n",
      "Epoch 45/100\n",
      "\u001b[1m51/51\u001b[0m \u001b[32m━━━━━━━━━━━━━━━━━━━━\u001b[0m\u001b[37m\u001b[0m \u001b[1m2s\u001b[0m 37ms/step - loss: 1.5819e-04 - val_loss: 4.0861e-04\n",
      "Epoch 46/100\n",
      "\u001b[1m51/51\u001b[0m \u001b[32m━━━━━━━━━━━━━━━━━━━━\u001b[0m\u001b[37m\u001b[0m \u001b[1m2s\u001b[0m 38ms/step - loss: 1.1061e-04 - val_loss: 3.6698e-04\n",
      "Epoch 47/100\n",
      "\u001b[1m51/51\u001b[0m \u001b[32m━━━━━━━━━━━━━━━━━━━━\u001b[0m\u001b[37m\u001b[0m \u001b[1m2s\u001b[0m 37ms/step - loss: 1.1198e-04 - val_loss: 7.2670e-04\n",
      "Epoch 48/100\n",
      "\u001b[1m51/51\u001b[0m \u001b[32m━━━━━━━━━━━━━━━━━━━━\u001b[0m\u001b[37m\u001b[0m \u001b[1m2s\u001b[0m 39ms/step - loss: 1.2818e-04 - val_loss: 9.3624e-04\n",
      "Epoch 49/100\n",
      "\u001b[1m51/51\u001b[0m \u001b[32m━━━━━━━━━━━━━━━━━━━━\u001b[0m\u001b[37m\u001b[0m \u001b[1m2s\u001b[0m 37ms/step - loss: 1.0717e-04 - val_loss: 2.2277e-04\n",
      "Epoch 50/100\n",
      "\u001b[1m51/51\u001b[0m \u001b[32m━━━━━━━━━━━━━━━━━━━━\u001b[0m\u001b[37m\u001b[0m \u001b[1m2s\u001b[0m 30ms/step - loss: 2.0049e-04 - val_loss: 7.7805e-04\n",
      "Epoch 51/100\n",
      "\u001b[1m51/51\u001b[0m \u001b[32m━━━━━━━━━━━━━━━━━━━━\u001b[0m\u001b[37m\u001b[0m \u001b[1m1s\u001b[0m 26ms/step - loss: 1.4047e-04 - val_loss: 4.2305e-04\n",
      "Epoch 52/100\n",
      "\u001b[1m51/51\u001b[0m \u001b[32m━━━━━━━━━━━━━━━━━━━━\u001b[0m\u001b[37m\u001b[0m \u001b[1m2s\u001b[0m 32ms/step - loss: 1.5333e-04 - val_loss: 2.9903e-04\n",
      "Epoch 53/100\n",
      "\u001b[1m51/51\u001b[0m \u001b[32m━━━━━━━━━━━━━━━━━━━━\u001b[0m\u001b[37m\u001b[0m \u001b[1m2s\u001b[0m 37ms/step - loss: 1.3827e-04 - val_loss: 7.0677e-04\n",
      "Epoch 54/100\n",
      "\u001b[1m51/51\u001b[0m \u001b[32m━━━━━━━━━━━━━━━━━━━━\u001b[0m\u001b[37m\u001b[0m \u001b[1m2s\u001b[0m 37ms/step - loss: 1.1463e-04 - val_loss: 3.0128e-04\n",
      "Epoch 55/100\n",
      "\u001b[1m51/51\u001b[0m \u001b[32m━━━━━━━━━━━━━━━━━━━━\u001b[0m\u001b[37m\u001b[0m \u001b[1m2s\u001b[0m 38ms/step - loss: 1.4158e-04 - val_loss: 0.0012\n",
      "Epoch 56/100\n",
      "\u001b[1m51/51\u001b[0m \u001b[32m━━━━━━━━━━━━━━━━━━━━\u001b[0m\u001b[37m\u001b[0m \u001b[1m2s\u001b[0m 36ms/step - loss: 1.2266e-04 - val_loss: 5.3541e-04\n",
      "Epoch 57/100\n",
      "\u001b[1m51/51\u001b[0m \u001b[32m━━━━━━━━━━━━━━━━━━━━\u001b[0m\u001b[37m\u001b[0m \u001b[1m1s\u001b[0m 27ms/step - loss: 1.1489e-04 - val_loss: 0.0016\n",
      "Epoch 58/100\n",
      "\u001b[1m51/51\u001b[0m \u001b[32m━━━━━━━━━━━━━━━━━━━━\u001b[0m\u001b[37m\u001b[0m \u001b[1m1s\u001b[0m 27ms/step - loss: 1.5815e-04 - val_loss: 0.0011\n",
      "Epoch 59/100\n",
      "\u001b[1m51/51\u001b[0m \u001b[32m━━━━━━━━━━━━━━━━━━━━\u001b[0m\u001b[37m\u001b[0m \u001b[1m1s\u001b[0m 27ms/step - loss: 1.3136e-04 - val_loss: 2.4907e-04\n",
      "Epoch 60/100\n",
      "\u001b[1m51/51\u001b[0m \u001b[32m━━━━━━━━━━━━━━━━━━━━\u001b[0m\u001b[37m\u001b[0m \u001b[1m1s\u001b[0m 27ms/step - loss: 1.1203e-04 - val_loss: 6.0632e-04\n",
      "Epoch 61/100\n",
      "\u001b[1m51/51\u001b[0m \u001b[32m━━━━━━━━━━━━━━━━━━━━\u001b[0m\u001b[37m\u001b[0m \u001b[1m1s\u001b[0m 27ms/step - loss: 1.1469e-04 - val_loss: 0.0010\n",
      "Epoch 62/100\n",
      "\u001b[1m51/51\u001b[0m \u001b[32m━━━━━━━━━━━━━━━━━━━━\u001b[0m\u001b[37m\u001b[0m \u001b[1m1s\u001b[0m 26ms/step - loss: 1.4796e-04 - val_loss: 8.8311e-04\n",
      "Epoch 62: early stopping\n",
      "Restoring model weights from the end of the best epoch: 37.\n"
     ]
    },
    {
     "data": {
      "text/plain": [
       "<keras.src.callbacks.history.History at 0x258d1b30ad0>"
      ]
     },
     "execution_count": 776,
     "metadata": {},
     "output_type": "execute_result"
    }
   ],
   "source": [
    "model.fit(\n",
    "    X_train,\n",
    "    y_train,\n",
    "    epochs=100,\n",
    "    batch_size=32,\n",
    "    validation_split=0.2,\n",
    "    callbacks=[early_stop],\n",
    "    verbose=1\n",
    ")"
   ]
  },
  {
   "cell_type": "markdown",
   "id": "6da1f9f5",
   "metadata": {},
   "source": [
    "## Model Testing"
   ]
  },
  {
   "cell_type": "code",
   "execution_count": 777,
   "id": "1d61c5be",
   "metadata": {},
   "outputs": [
    {
     "name": "stdout",
     "output_type": "stream",
     "text": [
      "\u001b[1m16/16\u001b[0m \u001b[32m━━━━━━━━━━━━━━━━━━━━\u001b[0m\u001b[37m\u001b[0m \u001b[1m1s\u001b[0m 37ms/step\n",
      "y_pred shape: (507,)\n"
     ]
    }
   ],
   "source": [
    "y_pred = model.predict(X_test)\n",
    "y_pred = y_pred.squeeze()\n",
    "print('y_pred shape:', y_pred.shape)"
   ]
  },
  {
   "cell_type": "code",
   "execution_count": 778,
   "id": "92c7455d",
   "metadata": {},
   "outputs": [],
   "source": [
    "close_idx = df.columns.get_loc('Close')\n",
    "\n",
    "y_test_full, y_pred_full = [], []\n",
    "for i in range(len(y_test)):\n",
    "    temp = np.zeros((n_days, data_scaled.shape[1]))\n",
    "    temp[:, close_idx] = y_test[i]\n",
    "    y_test_full.append(scaler.inverse_transform(temp)[:, close_idx])\n",
    "\n",
    "    temp[:, close_idx] = y_pred[i]\n",
    "    y_pred_full.append(scaler.inverse_transform(temp)[:, close_idx])"
   ]
  },
  {
   "cell_type": "code",
   "execution_count": 779,
   "id": "cf61551e",
   "metadata": {},
   "outputs": [
    {
     "name": "stdout",
     "output_type": "stream",
     "text": [
      "RMSE: 2.09\n",
      "MAE: 1.59\n"
     ]
    }
   ],
   "source": [
    "y_test_flat = np.array(y_test_full).flatten()\n",
    "y_pred_flat = np.array(y_pred_full).flatten()\n",
    "\n",
    "rmse = np.sqrt(mean_squared_error(y_test_flat, y_pred_flat))\n",
    "mae = mean_absolute_error(y_test_flat, y_pred_flat)\n",
    "print(f'RMSE: {rmse:.2f}')\n",
    "print(f'MAE: {mae:.2f}')"
   ]
  },
  {
   "cell_type": "code",
   "execution_count": 780,
   "id": "f17a789f",
   "metadata": {},
   "outputs": [
    {
     "data": {
      "image/png": "[encoded data removed]",
      "text/plain": [
       "<Figure size 1400x600 with 1 Axes>"
      ]
     },
     "metadata": {},
     "output_type": "display_data"
    }
   ],
   "source": [
    "plt.figure(figsize=(14, 6))\n",
    "plt.plot(dates_test.flatten(), np.array(y_test_flat), label='True', color='lightblue')\n",
    "plt.plot(dates_test.flatten(), np.array(y_pred_flat), label='Predicted', linestyle='--', color='orange')\n",
    "plt.title(f'{ticker} LSTM Forecast on Test Set')\n",
    "plt.xlabel('Date')\n",
    "plt.ylabel('Price')\n",
    "plt.legend()\n",
    "plt.grid()\n",
    "plt.show()\n"
   ]
  },
  {
   "cell_type": "markdown",
   "id": "c511b132",
   "metadata": {},
   "source": [
    "## Future Prediction"
   ]
  },
  {
   "cell_type": "code",
   "execution_count": 781,
   "id": "79412b23",
   "metadata": {},
   "outputs": [],
   "source": [
    "future_predictions = []\n",
    "prediction_length = n_days\n",
    "input_seq = data_scaled[-sequence_length:].reshape((1, sequence_length, data_scaled.shape[1]))"
   ]
  },
  {
   "cell_type": "code",
   "execution_count": 782,
   "id": "819c7281",
   "metadata": {},
   "outputs": [
    {
     "name": "stdout",
     "output_type": "stream",
     "text": [
      "\u001b[1m1/1\u001b[0m \u001b[32m━━━━━━━━━━━━━━━━━━━━\u001b[0m\u001b[37m\u001b[0m \u001b[1m0s\u001b[0m 33ms/step\n"
     ]
    }
   ],
   "source": [
    "pred = model.predict(input_seq)  # shape: (1, n_steps_out, 1)\n",
    "pred_close_scaled = pred[0, :, 0]  # shape: (n_steps_out,)\n",
    "future_predictions = pred_close_scaled.tolist()"
   ]
  },
  {
   "cell_type": "code",
   "execution_count": 783,
   "id": "4cf999ee",
   "metadata": {},
   "outputs": [],
   "source": [
    "temp = np.zeros((n_days, data_scaled.shape[1]))\n",
    "temp[:, close_idx] = future_predictions\n",
    "future_pred_prices = scaler.inverse_transform(temp)[:, close_idx]"
   ]
  },
  {
   "cell_type": "code",
   "execution_count": 785,
   "id": "ae7cb1fa",
   "metadata": {},
   "outputs": [
    {
     "name": "stdout",
     "output_type": "stream",
     "text": [
      "Future predictions for the next 1 days: [66.95150755]\n"
     ]
    }
   ],
   "source": [
    "print(f\"Future predictions for the next {n_days} days: {future_pred_prices}\")"
   ]
  },
  {
   "cell_type": "code",
   "execution_count": 787,
   "id": "a4048264",
   "metadata": {},
   "outputs": [
    {
     "name": "stderr",
     "output_type": "stream",
     "text": [
      "[*********************100%***********************]  1 of 1 completed"
     ]
    },
    {
     "name": "stdout",
     "output_type": "stream",
     "text": [
      "Ticker             KO\n",
      "Date                 \n",
      "2025-05-02  71.650002\n"
     ]
    },
    {
     "name": "stderr",
     "output_type": "stream",
     "text": [
      "\n"
     ]
    }
   ],
   "source": [
    "data_predict = yf.download(ticker, start='2025-05-02', end='2025-05-03')\n",
    "\n",
    "# Actual Close prices for the next day\n",
    "print(data_predict['Close'])"
   ]
  }
 ],
 "metadata": {
  "kernelspec": {
   "display_name": "derivativeGP",
   "language": "python",
   "name": "python3"
  },
  "language_info": {
   "codemirror_mode": {
    "name": "ipython",
    "version": 3
   },
   "file_extension": ".py",
   "mimetype": "text/x-python",
   "name": "python",
   "nbconvert_exporter": "python",
   "pygments_lexer": "ipython3",
   "version": "3.12.7"
  }
 },
 "nbformat": 4,
 "nbformat_minor": 5
}
